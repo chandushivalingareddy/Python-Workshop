{
  "nbformat": 4,
  "nbformat_minor": 0,
  "metadata": {
    "colab": {
      "name": "Day 2 session 2 Exercises",
      "provenance": [],
      "collapsed_sections": [],
      "authorship_tag": "ABX9TyPGaJrySawr/V1Zj1dguHmx",
      "include_colab_link": true
    },
    "kernelspec": {
      "name": "python3",
      "display_name": "Python 3"
    }
  },
  "cells": [
    {
      "cell_type": "markdown",
      "metadata": {
        "id": "view-in-github",
        "colab_type": "text"
      },
      "source": [
        "<a href=\"https://colab.research.google.com/github/chandushivalingareddy/Python-Workshop/blob/master/Day_2_session_2_Exercises.ipynb\" target=\"_parent\"><img src=\"https://colab.research.google.com/assets/colab-badge.svg\" alt=\"Open In Colab\"/></a>"
      ]
    },
    {
      "cell_type": "markdown",
      "metadata": {
        "id": "91NhSt9dtbEa",
        "colab_type": "text"
      },
      "source": [
        "#Dictionary Exercises\n",
        "\n"
      ]
    },
    {
      "cell_type": "markdown",
      "metadata": {
        "id": "hdj-IuQZt4y5",
        "colab_type": "text"
      },
      "source": [
        "#Add rollno and marks {name:mark} for n number of students through keyboard in a dictionary and print the marks in descending order with respective name."
      ]
    },
    {
      "cell_type": "code",
      "metadata": {
        "id": "x5TzM0-3tToN",
        "colab_type": "code",
        "colab": {
          "base_uri": "https://localhost:8080/",
          "height": 151
        },
        "outputId": "eccdd6ce-bf27-4385-beb9-ee8d0d1f05c7"
      },
      "source": [
        "dict={}\n",
        "n=int(input(\"enter the no of students\"))\n",
        "for i in range(n):\n",
        "  name=input(\"Enter the name\")\n",
        "  marks=int(input(\"Enter the marks\"))\n",
        "  dict[name]=marks\n",
        "print(dict)\n",
        "d1=dict.items()\n",
        "sort=sorted(d1,reverse=True);\n",
        "print(\"The sorted dictionary is\")\n",
        "print(sort)"
      ],
      "execution_count": 1,
      "outputs": [
        {
          "output_type": "stream",
          "text": [
            "enter the no of students2\n",
            "Enter the namechandana\n",
            "Enter the marks87\n",
            "Enter the namechurashma\n",
            "Enter the marks84\n",
            "{'chandana': 87, 'churashma': 84}\n",
            "The sorted dictionary is\n",
            "[('churashma', 84), ('chandana', 87)]\n"
          ],
          "name": "stdout"
        }
      ]
    },
    {
      "cell_type": "markdown",
      "metadata": {
        "id": "YAo8mXltuF22",
        "colab_type": "text"
      },
      "source": [
        "#Add  name and salary {name:salary} for n number of employees through keyboard in a dictionary and print them in name alphabetical order with salary"
      ]
    },
    {
      "cell_type": "code",
      "metadata": {
        "id": "kHn_Gls2uL94",
        "colab_type": "code",
        "colab": {
          "base_uri": "https://localhost:8080/",
          "height": 151
        },
        "outputId": "33548967-cac3-4b4c-8e7a-00d9dce3db3a"
      },
      "source": [
        "dict1={}\n",
        "n=int(input(\"enter the no of employees\"))\n",
        "for i in range(n):\n",
        "  name=input(\"Enter the name\")\n",
        "  salary=int(input(\"Enter the salary\"))\n",
        "  dict1[name]=salary\n",
        "print(dict1)\n",
        "d2=dict1.items()\n",
        "sort=sorted(d2);\n",
        "print(\"The sorted dictionary is\")\n",
        "print(sort)"
      ],
      "execution_count": 6,
      "outputs": [
        {
          "output_type": "stream",
          "text": [
            "enter the no of employees2\n",
            "Enter the namemeena\n",
            "Enter the salary50000\n",
            "Enter the namegeetha\n",
            "Enter the salary60000\n",
            "{'meena': 50000, 'geetha': 60000}\n",
            "The sorted dictionary is\n",
            "[('geetha', 60000), ('meena', 50000)]\n"
          ],
          "name": "stdout"
        }
      ]
    },
    {
      "cell_type": "markdown",
      "metadata": {
        "id": "6wOcBypduM8v",
        "colab_type": "text"
      },
      "source": [
        "#Add  name and salary {name:salary} for n number of employees through keyboard in a dictionary and print them in salary  ascending order and  sum, max, min and average of the salaries"
      ]
    },
    {
      "cell_type": "code",
      "metadata": {
        "id": "dHafzmvKuR43",
        "colab_type": "code",
        "colab": {
          "base_uri": "https://localhost:8080/",
          "height": 302
        },
        "outputId": "3e106415-2371-4451-9572-94b92796b82f"
      },
      "source": [
        "import statistics\n",
        "dict={}\n",
        "n=int(input(\"enter the no of employees\"))\n",
        "for i in range(n):\n",
        "  name=input(\"Enter the name\")\n",
        "  marks=int(input(\"Enter the salary\"))\n",
        "  dict[name]=marks\n",
        "print(dict)\n",
        "sort=sorted(dict.items(),key=lambda x:x[1]);\n",
        "print(\"The sorted dictionary is\")\n",
        "print(sort)\n",
        "print(\"The sum is\")\n",
        "print(sum(dict.values()))\n",
        "print(\"the maximum is\")\n",
        "max_val=max(dict,key=dict.get)\n",
        "print(max_val)\n",
        "print(\"the minimum is\")\n",
        "min_val=min(dict,key=dict.get)\n",
        "print(min_val)\n",
        " \n",
        "mean= statistics.mean(dict.values()) \n",
        " \n",
        "print(\"The average of salary is\",mean)"
      ],
      "execution_count": 7,
      "outputs": [
        {
          "output_type": "stream",
          "text": [
            "enter the no of employees3\n",
            "Enter the namemeena\n",
            "Enter the salary50000\n",
            "Enter the namegeetha\n",
            "Enter the salary60000\n",
            "Enter the namesunitha\n",
            "Enter the salary75000\n",
            "{'meena': 50000, 'geetha': 60000, 'sunitha': 75000}\n",
            "The sorted dictionary is\n",
            "[('meena', 50000), ('geetha', 60000), ('sunitha', 75000)]\n",
            "The sum is\n",
            "185000\n",
            "the maximum is\n",
            "sunitha\n",
            "the minimum is\n",
            "meena\n",
            "The average of salary is 61666.666666666664\n"
          ],
          "name": "stdout"
        }
      ]
    },
    {
      "cell_type": "markdown",
      "metadata": {
        "id": "4pSnd6JsuStA",
        "colab_type": "text"
      },
      "source": [
        "#Add name and salary {name:salary} for n number of employees through keyboard in a dictionary and print only the employees whose salary is greater than 2000 but less than 4000"
      ]
    },
    {
      "cell_type": "code",
      "metadata": {
        "id": "-FS0yUDqudBo",
        "colab_type": "code",
        "colab": {
          "base_uri": "https://localhost:8080/",
          "height": 168
        },
        "outputId": "a5f2acf7-6804-468a-9440-eba672565783"
      },
      "source": [
        "dict={}\n",
        "n=int(input(\"enter the no of employees\"))\n",
        "for i in range(n):\n",
        "  name=input(\"Enter the name\")\n",
        "  marks=int(input(\"Enter the salary\"))\n",
        "  dict[name]=marks\n",
        "print(dict)\n",
        "res={key:val for key, val in dict.items() if val>2000 and val<4000}\n",
        "print(res)"
      ],
      "execution_count": 9,
      "outputs": [
        {
          "output_type": "stream",
          "text": [
            "enter the no of employees3\n",
            "Enter the namemeena\n",
            "Enter the salary2500\n",
            "Enter the namegeetha\n",
            "Enter the salary3000\n",
            "Enter the namesunitha\n",
            "Enter the salary3500\n",
            "{'meena': 2500, 'geetha': 3000, 'sunitha': 3500}\n",
            "{'meena': 2500, 'geetha': 3000, 'sunitha': 3500}\n"
          ],
          "name": "stdout"
        }
      ]
    },
    {
      "cell_type": "markdown",
      "metadata": {
        "id": "_iNotVyNudl4",
        "colab_type": "text"
      },
      "source": [
        "#Python program to convert a 3 digit number  into words"
      ]
    },
    {
      "cell_type": "code",
      "metadata": {
        "id": "-8pvIt5J0A7o",
        "colab_type": "code",
        "colab": {
          "base_uri": "https://localhost:8080/",
          "height": 50
        },
        "outputId": "018e9fc9-68a1-4405-e74f-67b1484d7863"
      },
      "source": [
        "d={10:'ten',11:'eleven',12:'twelve',13:'thirteen',14:'fourteen',15:'fifteen',16:'sixteen',\\\n",
        "   17:'seventeen',18:'eightteen',19:'nineteen',20:'twenty',30:'thirty',40:'fourty',50:'fifty',\\\n",
        "   60:'sixty',70:'seventy',80:'eighty',90:'ninty',100:'hundred',200:'two hundred',300:'three hundred'}\n",
        "\n",
        "num=int(input(\"Enter the integer between 10 to 300:\"))\n",
        "if (num<=90):\n",
        "      print(d[num])\n",
        "if(num>90 and num<300):\n",
        "        if num%10==0:       \n",
        "            print(d[num])\n",
        "        else:\n",
        "            print(d[num//10*10]+\" \"+d[num%10])\n"
      ],
      "execution_count": null,
      "outputs": [
        {
          "output_type": "stream",
          "text": [
            "Enter the integer between 10 to 300:200\n",
            "two hundred\n"
          ],
          "name": "stdout"
        }
      ]
    },
    {
      "cell_type": "markdown",
      "metadata": {
        "id": "jtZ4PQ3tujO3",
        "colab_type": "text"
      },
      "source": [
        "#Files Exercises"
      ]
    },
    {
      "cell_type": "markdown",
      "metadata": {
        "id": "a1Jg94htuonP",
        "colab_type": "text"
      },
      "source": [
        "#Python Program to count the total number of charaters (except blank space) in a text file."
      ]
    },
    {
      "cell_type": "code",
      "metadata": {
        "id": "-Y3UyJIduun3",
        "colab_type": "code",
        "colab": {
          "base_uri": "https://localhost:8080/",
          "height": 34
        },
        "outputId": "edc5f4c2-e3f9-4e9e-dc1c-1db200ac7935"
      },
      "source": [
        "file = open(\"/content/sample_data/file.txt\",\"r\")\n",
        "data = file.read().replace(\" \",\"\")\n",
        "number_of_characters = len(data)\n",
        "print('Number of characters in text file :', number_of_characters)\n"
      ],
      "execution_count": 11,
      "outputs": [
        {
          "output_type": "stream",
          "text": [
            "Number of characters in text file : 44\n"
          ],
          "name": "stdout"
        }
      ]
    },
    {
      "cell_type": "markdown",
      "metadata": {
        "id": "7w97in6QuvD_",
        "colab_type": "text"
      },
      "source": [
        "#Python Program to print all the numbers present in a text file with its total number of occurrence."
      ]
    },
    {
      "cell_type": "code",
      "metadata": {
        "id": "z9jmbp4d7D2A",
        "colab_type": "code",
        "colab": {
          "base_uri": "https://localhost:8080/",
          "height": 50
        },
        "outputId": "1c3a18b1-1e7a-4933-bb7a-6d9e96be5edb"
      },
      "source": [
        "fname = input(\"Enter the name of the file:\")\n",
        "infile = open(fname, 'r')\n",
        "content = infile.readlines() \n",
        "a = 0\n",
        "for line in content: \n",
        "    for i in line:  \n",
        "        if i.isdigit() == True: \n",
        "          a=a+1\n",
        "print(\"The total numbers in a text file is:\", a)"
      ],
      "execution_count": 12,
      "outputs": [
        {
          "output_type": "stream",
          "text": [
            "Enter the name of the file:/content/sample_data/file.txt\n",
            "The total numbers in a text file is: 2\n"
          ],
          "name": "stdout"
        }
      ]
    },
    {
      "cell_type": "markdown",
      "metadata": {
        "id": "xnwpOPMtu0Iw",
        "colab_type": "text"
      },
      "source": [
        "#Python Program to append the contents of one file to another file "
      ]
    },
    {
      "cell_type": "code",
      "metadata": {
        "id": "phwOb0jRLtfw",
        "colab_type": "code",
        "colab": {
          "base_uri": "https://localhost:8080/",
          "height": 50
        },
        "outputId": "62eca190-6bdf-4839-8a32-d18653bd6362"
      },
      "source": [
        "name1 = input(\"Enter file to be read from: \")\n",
        "name2 = input(\"Enter file to be appended to: \")\n",
        "fin = open(name1, \"r\")\n",
        "data2 = fin.read()\n",
        "fin.close()\n",
        "fout = open(name2, \"a\")\n",
        "fout.write(data2)\n",
        "fout.close()"
      ],
      "execution_count": 13,
      "outputs": [
        {
          "output_type": "stream",
          "text": [
            "Enter file to be read from: /content/sample_data/file.txt\n",
            "Enter file to be appended to: /content/sample_data/file1.txt\n"
          ],
          "name": "stdout"
        }
      ]
    },
    {
      "cell_type": "markdown",
      "metadata": {
        "id": "fe90bFuHu6DM",
        "colab_type": "text"
      },
      "source": [
        "#Python Program to count the number of blank spaces in a text file. "
      ]
    },
    {
      "cell_type": "code",
      "metadata": {
        "id": "5WlnlJvXu-v4",
        "colab_type": "code",
        "colab": {
          "base_uri": "https://localhost:8080/",
          "height": 67
        },
        "outputId": "5180b657-1f71-4359-b399-77b34660a020"
      },
      "source": [
        "fname = input(\"Enter file name: \")\n",
        "k = 0\n",
        "\n",
        "with open(fname, 'r') as f:\n",
        "    for line in f:\n",
        "        words = line.split()\n",
        "        for i in words:\n",
        "            for letter in i:\n",
        "                if(letter.isspace):\n",
        "                    k=k+1\n",
        "print(\"Occurrences of blank spaces:\")\n",
        "print(k)"
      ],
      "execution_count": 14,
      "outputs": [
        {
          "output_type": "stream",
          "text": [
            "Enter file name: /content/sample_data/file.txt\n",
            "Occurrences of blank spaces:\n",
            "41\n"
          ],
          "name": "stdout"
        }
      ]
    },
    {
      "cell_type": "markdown",
      "metadata": {
        "id": "TPBJ2nl2u6B3",
        "colab_type": "text"
      },
      "source": [
        "#Python Program to read a file and capitalize the first letter of every word in the file and copy the every word capitalized content  into another file and read it ."
      ]
    },
    {
      "cell_type": "code",
      "metadata": {
        "id": "-wqBj4JdvDbu",
        "colab_type": "code",
        "colab": {
          "base_uri": "https://localhost:8080/",
          "height": 134
        },
        "outputId": "5b659d8a-fced-41aa-a9b3-e2c8c4aa5b09"
      },
      "source": [
        "fname = input(\"Enter file name: \")\n",
        "with open(fname, 'r') as f:\n",
        "    for line in f:\n",
        "        l=line.title()\n",
        "        print(l)"
      ],
      "execution_count": 15,
      "outputs": [
        {
          "output_type": "stream",
          "text": [
            "Enter file name: /content/sample_data/file.txt\n",
            "I Am Chandana\n",
            "\n",
            "I Am 20 Years Old\n",
            "\n",
            "I Am Studying In Aiet\n",
            "\n"
          ],
          "name": "stdout"
        }
      ]
    }
  ]
}