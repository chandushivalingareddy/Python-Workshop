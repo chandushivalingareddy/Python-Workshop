{
  "nbformat": 4,
  "nbformat_minor": 0,
  "metadata": {
    "colab": {
      "name": "Day 3 session 2 Example programs",
      "provenance": [],
      "collapsed_sections": [],
      "authorship_tag": "ABX9TyP0b+6tOxLeD/mOUUl7IcDl",
      "include_colab_link": true
    },
    "kernelspec": {
      "name": "python3",
      "display_name": "Python 3"
    }
  },
  "cells": [
    {
      "cell_type": "markdown",
      "metadata": {
        "id": "view-in-github",
        "colab_type": "text"
      },
      "source": [
        "<a href=\"https://colab.research.google.com/github/chandushivalingareddy/Python-Workshop/blob/master/Day_3_session_2_Example_programs.ipynb\" target=\"_parent\"><img src=\"https://colab.research.google.com/assets/colab-badge.svg\" alt=\"Open In Colab\"/></a>"
      ]
    },
    {
      "cell_type": "markdown",
      "metadata": {
        "id": "OnWvfFG8WiRN",
        "colab_type": "text"
      },
      "source": [
        "#Finding the factorial of a number"
      ]
    },
    {
      "cell_type": "code",
      "metadata": {
        "id": "Z4svJ9cZWSX5",
        "colab_type": "code",
        "colab": {
          "base_uri": "https://localhost:8080/",
          "height": 67
        },
        "outputId": "b368a530-1d11-4b9a-eda9-ce3911863e4c"
      },
      "source": [
        "#Python Program to find the factorial of a number using loop.\n",
        "n=int(input(\"Enter number:\"))\n",
        "fact=1\n",
        "while(n>0):\n",
        "      fact=fact*n\n",
        "      n=n-1\n",
        "print(\"Factorial of the number is: \")\n",
        "print(fact)"
      ],
      "execution_count": null,
      "outputs": [
        {
          "output_type": "stream",
          "text": [
            "Enter number:5\n",
            "Factorial of the number is: \n",
            "120\n"
          ],
          "name": "stdout"
        }
      ]
    },
    {
      "cell_type": "markdown",
      "metadata": {
        "id": "TeLkPFf6W3Ok",
        "colab_type": "text"
      },
      "source": [
        "#Program for multiples of 2 of a list without list comprehension"
      ]
    },
    {
      "cell_type": "code",
      "metadata": {
        "id": "oo2wURJYW60P",
        "colab_type": "code",
        "colab": {
          "base_uri": "https://localhost:8080/",
          "height": 34
        },
        "outputId": "f4c494a2-8973-4b50-ba55-e74425bbc296"
      },
      "source": [
        "x=[1, 2, 3, 4, 5, 6]\n",
        "result = []\n",
        "for idx in range(len(x)):\n",
        "    result.append(x[idx] * 2)\n",
        "print(result)"
      ],
      "execution_count": null,
      "outputs": [
        {
          "output_type": "stream",
          "text": [
            "[2, 4, 6, 8, 10, 12]\n"
          ],
          "name": "stdout"
        }
      ]
    },
    {
      "cell_type": "markdown",
      "metadata": {
        "id": "wyJ3fNAtW_Lb",
        "colab_type": "text"
      },
      "source": [
        "#Single line program of Pythonic coding"
      ]
    },
    {
      "cell_type": "code",
      "metadata": {
        "id": "BoH2nFrTXC9k",
        "colab_type": "code",
        "colab": {
          "base_uri": "https://localhost:8080/",
          "height": 34
        },
        "outputId": "fed03330-b233-4800-d1fd-2105ad37934c"
      },
      "source": [
        "print([i*2 for i in [1, 2, 3, 4, 5, 6] ])"
      ],
      "execution_count": null,
      "outputs": [
        {
          "output_type": "stream",
          "text": [
            "[2, 4, 6, 8, 10, 12]\n"
          ],
          "name": "stdout"
        }
      ]
    },
    {
      "cell_type": "markdown",
      "metadata": {
        "id": "19ari782XGhD",
        "colab_type": "text"
      },
      "source": [
        "#More Pythonic program of 3 lines!"
      ]
    },
    {
      "cell_type": "code",
      "metadata": {
        "id": "5hRw55fgXKlb",
        "colab_type": "code",
        "colab": {
          "base_uri": "https://localhost:8080/",
          "height": 50
        },
        "outputId": "bc46546a-d268-4453-821f-ca78423d0e72"
      },
      "source": [
        "from functools import reduce\n",
        "sequences = [x for x in range(1,int(input('Enter no'))+1)]\n",
        "product = reduce(lambda x, y: x*y, sequences)\n",
        "print(product)"
      ],
      "execution_count": null,
      "outputs": [
        {
          "output_type": "stream",
          "text": [
            "Enter no5\n",
            "120\n"
          ],
          "name": "stdout"
        }
      ]
    },
    {
      "cell_type": "markdown",
      "metadata": {
        "id": "Of-56flCXPmL",
        "colab_type": "text"
      },
      "source": [
        "#Number and its square as Tuple for a range"
      ]
    },
    {
      "cell_type": "code",
      "metadata": {
        "id": "WGal5Z-sXTJL",
        "colab_type": "code",
        "colab": {
          "base_uri": "https://localhost:8080/",
          "height": 87
        },
        "outputId": "a0e1d5fa-570a-406e-b797-21804963dc9d"
      },
      "source": [
        "l_range=int(input(\"Enter the lower range:\"))\n",
        "u_range=int(input(\"Enter the upper range:\"))\n",
        "a=[(x,x**2) for x in range(l_range,u_range+1)]\n",
        "print(a)"
      ],
      "execution_count": null,
      "outputs": [
        {
          "output_type": "stream",
          "text": [
            "Enter the lower range:1\n",
            "Enter the upper range:20\n",
            "[(1, 1), (2, 4), (3, 9), (4, 16), (5, 25), (6, 36), (7, 49), (8, 64), (9, 81), (10, 100), (11, 121), (12, 144), (13, 169), (14, 196), (15, 225), (16, 256), (17, 289), (18, 324), (19, 361), (20, 400)]\n"
          ],
          "name": "stdout"
        }
      ]
    },
    {
      "cell_type": "markdown",
      "metadata": {
        "id": "t3wyE0yOXYxj",
        "colab_type": "text"
      },
      "source": [
        "#The most Pythonic program of a sinle line program is given below"
      ]
    },
    {
      "cell_type": "code",
      "metadata": {
        "id": "mDWdQSkPYTR2",
        "colab_type": "code",
        "colab": {
          "base_uri": "https://localhost:8080/",
          "height": 67
        },
        "outputId": "6dc8cdcd-21f1-420b-fe50-900d50953483"
      },
      "source": [
        "print([(x,x**2) for x in range(int(input(\"Enter the lower range:\")),\\\n",
        "         int(input(\"Enter the upper range:\"))+1)])"
      ],
      "execution_count": null,
      "outputs": [
        {
          "output_type": "stream",
          "text": [
            "Enter the lower range:3\n",
            "Enter the upper range:10\n",
            "[(3, 9), (4, 16), (5, 25), (6, 36), (7, 49), (8, 64), (9, 81), (10, 100)]\n"
          ],
          "name": "stdout"
        }
      ]
    },
    {
      "cell_type": "markdown",
      "metadata": {
        "id": "2nZOAfL_YaX1",
        "colab_type": "text"
      },
      "source": [
        "#Finding the perfect squares"
      ]
    },
    {
      "cell_type": "code",
      "metadata": {
        "id": "L0RNhWfNYeyy",
        "colab_type": "code",
        "colab": {
          "base_uri": "https://localhost:8080/",
          "height": 34
        },
        "outputId": "560034e6-5132-4c9e-9772-22b6866c30fd"
      },
      "source": [
        "from math import *\n",
        "sequences = [10,2,8,7,5,4,3,11,0,9,16,1]\n",
        "result=[]\n",
        "for i in sequences:\n",
        "    if int(sqrt(i))**2==i:\n",
        "       result.append(i)\n",
        "print(result)"
      ],
      "execution_count": null,
      "outputs": [
        {
          "output_type": "stream",
          "text": [
            "[4, 0, 9, 16, 1]\n"
          ],
          "name": "stdout"
        }
      ]
    },
    {
      "cell_type": "markdown",
      "metadata": {
        "id": "qsLMznyLYjYK",
        "colab_type": "text"
      },
      "source": [
        "#Pythonic program of 3 lines!"
      ]
    },
    {
      "cell_type": "code",
      "metadata": {
        "id": "s9YPRGkQYoD6",
        "colab_type": "code",
        "colab": {
          "base_uri": "https://localhost:8080/",
          "height": 34
        },
        "outputId": "b903d45b-2911-4c92-b9ab-82a09510b6db"
      },
      "source": [
        "sequences = [10,2,8,7,5,4,3,11,0,9,16,1]\n",
        "filtered_result = filter(lambda x: int(sqrt(x))**2==x, sequences)\n",
        "print(list(filtered_result))"
      ],
      "execution_count": null,
      "outputs": [
        {
          "output_type": "stream",
          "text": [
            "[4, 0, 9, 16, 1]\n"
          ],
          "name": "stdout"
        }
      ]
    },
    {
      "cell_type": "markdown",
      "metadata": {
        "id": "AG7rPyEuYr4q",
        "colab_type": "text"
      },
      "source": [
        "#Program to find the largest number in a list"
      ]
    },
    {
      "cell_type": "code",
      "metadata": {
        "id": "iVRLDHzaY7pj",
        "colab_type": "code",
        "colab": {
          "base_uri": "https://localhost:8080/",
          "height": 134
        },
        "outputId": "d9f21161-3b1c-4067-9886-467262f1bec8"
      },
      "source": [
        "a=[]\n",
        "n=int(input(\"Enter number of elements:\"))\n",
        "for i in range(1,n+1):\n",
        "    b=int(input(\"Enter element:\"))\n",
        "    a.append(b)\n",
        "    a.sort()\n",
        "print(\"Largest element is:\",a[n-1])"
      ],
      "execution_count": null,
      "outputs": [
        {
          "output_type": "stream",
          "text": [
            "Enter number of elements:5\n",
            "Enter element:14\n",
            "Enter element:34\n",
            "Enter element:67\n",
            "Enter element:89\n",
            "Enter element:90\n",
            "Largest element is: 90\n"
          ],
          "name": "stdout"
        }
      ]
    },
    {
      "cell_type": "markdown",
      "metadata": {
        "id": "JxX837QwZILq",
        "colab_type": "text"
      },
      "source": [
        "#Try this More pythonic 2 lines program equivalent to above codings as shown below !"
      ]
    },
    {
      "cell_type": "code",
      "metadata": {
        "id": "gVf9SwufZMYC",
        "colab_type": "code",
        "colab": {
          "base_uri": "https://localhost:8080/",
          "height": 118
        },
        "outputId": "89455ce7-eb1b-439a-b502-7928d1fd2d45"
      },
      "source": [
        "x=0\n",
        "print('The greatest no is',max([int(input(x)) for _ in range(int(input(\"Enter no\")))]))"
      ],
      "execution_count": null,
      "outputs": [
        {
          "output_type": "stream",
          "text": [
            "Enter no4\n",
            "5\n",
            "8\n",
            "9\n",
            "10\n",
            "The greatest no is 10\n"
          ],
          "name": "stdout"
        }
      ]
    },
    {
      "cell_type": "markdown",
      "metadata": {
        "id": "gPFf7fSTZb-L",
        "colab_type": "text"
      },
      "source": [
        "#Program to put the even and odd elements in a list into two different lists."
      ]
    },
    {
      "cell_type": "code",
      "metadata": {
        "id": "IHSnThnfZg3y",
        "colab_type": "code",
        "colab": {
          "base_uri": "https://localhost:8080/",
          "height": 151
        },
        "outputId": "e36bd4d6-14ea-4e54-d7a2-878a5c17f8c5"
      },
      "source": [
        "a=[]\n",
        "n=int(input(\"Enter number of elements:\"))\n",
        "for i in range(1,n+1):\n",
        "    b=int(input(\"Enter element:\"))\n",
        "    a.append(b)\n",
        "even=[]\n",
        "odd=[]\n",
        "for j in a:\n",
        "    if(j%2==0):\n",
        "      even.append(j)\n",
        "else:\n",
        "      odd.append(j)\n",
        "print(\"The even list\",even)\n",
        "print(\"The odd list\",odd)"
      ],
      "execution_count": null,
      "outputs": [
        {
          "output_type": "stream",
          "text": [
            "Enter number of elements:5\n",
            "Enter element:7\n",
            "Enter element:4\n",
            "Enter element:9\n",
            "Enter element:8\n",
            "Enter element:6\n",
            "The even list [4, 8, 6]\n",
            "The odd list [6]\n"
          ],
          "name": "stdout"
        }
      ]
    },
    {
      "cell_type": "markdown",
      "metadata": {
        "id": "3e1SpdM4Zt6y",
        "colab_type": "text"
      },
      "source": [
        "#Instead of forementioned 14 lines program, the equivalent 4 lines !"
      ]
    },
    {
      "cell_type": "code",
      "metadata": {
        "id": "iw1eZlR5Zzg6",
        "colab_type": "code",
        "colab": {
          "base_uri": "https://localhost:8080/",
          "height": 168
        },
        "outputId": "aa45cfa0-2bc7-45e4-f284-1e03841f04de"
      },
      "source": [
        "x=0\n",
        "l=[int(input(x)) for _ in range(int(input(\"Enter n\")))]\n",
        "print('odd list is',[ i for i in l if i%2])\n",
        "print('even list is',[i for i in l if not i%2])"
      ],
      "execution_count": null,
      "outputs": [
        {
          "output_type": "stream",
          "text": [
            "Enter n6\n",
            "4\n",
            "8\n",
            "9\n",
            "3\n",
            "7\n",
            "12\n",
            "odd list is [9, 3, 7]\n",
            "even list is [4, 8, 12]\n"
          ],
          "name": "stdout"
        }
      ]
    },
    {
      "cell_type": "markdown",
      "metadata": {
        "id": "0WLYMyjLZ7PJ",
        "colab_type": "text"
      },
      "source": [
        "#Python Program to merge two lists and sort it."
      ]
    },
    {
      "cell_type": "code",
      "metadata": {
        "id": "iEFsVaN6Z_bK",
        "colab_type": "code",
        "colab": {
          "base_uri": "https://localhost:8080/",
          "height": 218
        },
        "outputId": "18096f49-f087-4ca7-98a9-77ebfcee4475"
      },
      "source": [
        "a=[]\n",
        "c=[]\n",
        "n1=int(input(\"Enter number of elements:\"))\n",
        "for i in range(1,n1+1):\n",
        "    b=int(input(\"Enter element:\"))\n",
        "    a.append(b)\n",
        "n2=int(input(\"Enter number of elements:\"))\n",
        "for i in range(1,n2+1):\n",
        "      d=int(input(\"Enter element:\"))\n",
        "      c.append(d)\n",
        "new=a+c\n",
        "new.sort()\n",
        "print(\"Sorted list is:\",new)"
      ],
      "execution_count": null,
      "outputs": [
        {
          "output_type": "stream",
          "text": [
            "Enter number of elements:5\n",
            "Enter element:14\n",
            "Enter element:17\n",
            "Enter element:19\n",
            "Enter element:15\n",
            "Enter element:23\n",
            "Enter number of elements:4\n",
            "Enter element:65\n",
            "Enter element:86\n",
            "Enter element:97\n",
            "Enter element:67\n",
            "Sorted list is: [14, 15, 17, 19, 23, 65, 67, 86, 97]\n"
          ],
          "name": "stdout"
        }
      ]
    },
    {
      "cell_type": "markdown",
      "metadata": {
        "id": "T4ikYeptaQ-V",
        "colab_type": "text"
      },
      "source": [
        "#Instead of forementioned 13 lines program, the equivalent 5 lines !"
      ]
    },
    {
      "cell_type": "code",
      "metadata": {
        "id": "cnaI7aPzaUVx",
        "colab_type": "code",
        "colab": {
          "base_uri": "https://localhost:8080/",
          "height": 218
        },
        "outputId": "9f3658b9-df5f-4df1-99eb-965b06978616"
      },
      "source": [
        "x=0\n",
        "l=[int(input(x)) for _ in range(int(input(\"Enter how many elements\")))]\n",
        "m=[int(input(x)) for _ in range(int(input(\"Enter how many elements \")))]\n",
        "new=l+m\n",
        "new.sort()\n",
        "print(\"Sorted list is:\",new)"
      ],
      "execution_count": null,
      "outputs": [
        {
          "output_type": "stream",
          "text": [
            "Enter how many elements4\n",
            "5\n",
            "14\n",
            "24\n",
            "65\n",
            "Enter how many elements 5\n",
            "67\n",
            "98\n",
            "54\n",
            "67\n",
            "93\n",
            "Sorted list is: [5, 14, 24, 54, 65, 67, 67, 93, 98]\n"
          ],
          "name": "stdout"
        }
      ]
    },
    {
      "cell_type": "markdown",
      "metadata": {
        "id": "9sZfUSOUag3R",
        "colab_type": "text"
      },
      "source": [
        "#Python Program to sort the list according to the second element in the sublist."
      ]
    },
    {
      "cell_type": "code",
      "metadata": {
        "id": "iF0gHNL8ambb",
        "colab_type": "code",
        "colab": {
          "base_uri": "https://localhost:8080/",
          "height": 34
        },
        "outputId": "10d2562d-49cc-491f-8e50-f5db78d2ff1f"
      },
      "source": [
        "a=[['A',34],['B',21],['C',26],['E',29]]\n",
        "for i in range(0,len(a)):\n",
        "    for j in range(i+1,len(a)):\n",
        "       if(a[i][1]>a[j][1]):\n",
        "          temp=a[j]\n",
        "          a[j]=a[i]\n",
        "          a[i]=temp\n",
        "print(a)"
      ],
      "execution_count": null,
      "outputs": [
        {
          "output_type": "stream",
          "text": [
            "[['B', 21], ['C', 26], ['E', 29], ['A', 34]]\n"
          ],
          "name": "stdout"
        }
      ]
    },
    {
      "cell_type": "markdown",
      "metadata": {
        "id": "oTCRYhgNavmq",
        "colab_type": "text"
      },
      "source": [
        "#Instead of forementioned 8 lines program, the equivalent 3 lines !"
      ]
    },
    {
      "cell_type": "code",
      "metadata": {
        "id": "WAc00V_4aztB",
        "colab_type": "code",
        "colab": {
          "base_uri": "https://localhost:8080/",
          "height": 34
        },
        "outputId": "c909d0a1-d020-44d1-aa32-09e3b22d6acd"
      },
      "source": [
        "a=[['A',34],['B',21],['C',26],['E',29]]\n",
        "a.sort(key = lambda x: x[1])\n",
        "print(a)"
      ],
      "execution_count": null,
      "outputs": [
        {
          "output_type": "stream",
          "text": [
            "[['B', 21], ['C', 26], ['E', 29], ['A', 34]]\n"
          ],
          "name": "stdout"
        }
      ]
    },
    {
      "cell_type": "markdown",
      "metadata": {
        "id": "2duqN-rCa28a",
        "colab_type": "text"
      },
      "source": [
        "#Program to find the second largest number in a list"
      ]
    },
    {
      "cell_type": "code",
      "metadata": {
        "id": "LRltMTSabAw6",
        "colab_type": "code",
        "colab": {
          "base_uri": "https://localhost:8080/",
          "height": 118
        },
        "outputId": "5c3ce37c-81c8-410d-ac82-4eebca1b512e"
      },
      "source": [
        "a=[]\n",
        "n=int(input(\"Enter number of elements:\"))\n",
        "for i in range(1, n+1):\n",
        "  for i in range(1,n+1):\n",
        "      b=int(input(\"Enter element:\"))\n",
        "      a.append(b)\n",
        "for i in range(0,len(a)):\n",
        "    for j in range(0,len(a)-i-1):\n",
        "       if(a[j]>a[j+1]):\n",
        "         temp=a[j]\n",
        "         a[j]=a[j+1]\n",
        "         a[j+1]=temp\n",
        "print('Second largest number is:',a[n-2])"
      ],
      "execution_count": null,
      "outputs": [
        {
          "output_type": "stream",
          "text": [
            "Enter number of elements:2\n",
            "Enter element:76\n",
            "Enter element:98\n",
            "Enter element:65\n",
            "Enter element:987\n",
            "Second largest number is: 65\n"
          ],
          "name": "stdout"
        }
      ]
    },
    {
      "cell_type": "markdown",
      "metadata": {
        "id": "pZ52yCrUbt-s",
        "colab_type": "text"
      },
      "source": [
        "#Instead of forementioned 12 lines program, the equivalent 4 lines progam !"
      ]
    },
    {
      "cell_type": "code",
      "metadata": {
        "id": "wzT2vTEnbyA5",
        "colab_type": "code",
        "colab": {
          "base_uri": "https://localhost:8080/",
          "height": 101
        },
        "outputId": "a0cc9e3b-7bc2-42aa-b3df-b1a1e469fcb3"
      },
      "source": [
        "x=0\n",
        "l=[int(input(x)) for _ in range(int(input(\"Enter how many elements\")))]\n",
        "l.sort()\n",
        "print(\"Second largest element is :\",l[-2])"
      ],
      "execution_count": null,
      "outputs": [
        {
          "output_type": "stream",
          "text": [
            "Enter how many elements3\n",
            "7\n",
            "98\n",
            "76\n",
            "Second largest element is : 76\n"
          ],
          "name": "stdout"
        }
      ]
    },
    {
      "cell_type": "markdown",
      "metadata": {
        "id": "KSOVTZKYb3o5",
        "colab_type": "text"
      },
      "source": [
        "#Program to create a list of tuples with the first element as the number and second element as the square of the number "
      ]
    },
    {
      "cell_type": "code",
      "metadata": {
        "id": "rjVBCBqucQv5",
        "colab_type": "code",
        "colab": {
          "base_uri": "https://localhost:8080/",
          "height": 67
        },
        "outputId": "2eea9663-6e0b-4d5c-b7ef-70c0a94816a3"
      },
      "source": [
        "l_range=int(input(\"Enter the lower range:\"))\n",
        "u_range=int(input(\"Enter the upper range:\"))\n",
        "a=[(x,x**2) for x in range(l_range,u_range+1)]\n",
        "print(a)"
      ],
      "execution_count": null,
      "outputs": [
        {
          "output_type": "stream",
          "text": [
            "Enter the lower range:3\n",
            "Enter the upper range:6\n",
            "[(3, 9), (4, 16), (5, 25), (6, 36)]\n"
          ],
          "name": "stdout"
        }
      ]
    },
    {
      "cell_type": "markdown",
      "metadata": {
        "id": "BKs-eXN0cVmq",
        "colab_type": "text"
      },
      "source": [
        "#The aforementioned program is already pythonic\n",
        "#We can still make it more pythonic as follows"
      ]
    },
    {
      "cell_type": "code",
      "metadata": {
        "id": "Zhj9u1qxcfpg",
        "colab_type": "code",
        "colab": {
          "base_uri": "https://localhost:8080/",
          "height": 67
        },
        "outputId": "56bc704d-ce7d-4042-d784-9cfda935d040"
      },
      "source": [
        "a=[(x,x**2) for x in range(int(input(\"Enter the lower range:\")),\\\n",
        "int(input(\"Enter the upper range:\"))+1)]\n",
        "print(a)"
      ],
      "execution_count": null,
      "outputs": [
        {
          "output_type": "stream",
          "text": [
            "Enter the lower range:3\n",
            "Enter the upper range:6\n",
            "[(3, 9), (4, 16), (5, 25), (6, 36)]\n"
          ],
          "name": "stdout"
        }
      ]
    },
    {
      "cell_type": "markdown",
      "metadata": {
        "id": "idGYB60rckbq",
        "colab_type": "text"
      },
      "source": [
        "#Of course, We can write in the most pythonic way with one line ! as follows"
      ]
    },
    {
      "cell_type": "code",
      "metadata": {
        "id": "rirEKKTjcn10",
        "colab_type": "code",
        "colab": {
          "base_uri": "https://localhost:8080/",
          "height": 67
        },
        "outputId": "6f95b93b-74d3-44fb-8ac6-8c30a6ca0c2a"
      },
      "source": [
        "print([(x,x**2) for x in range(int(input(\"Enter the lower range:\")),\\\n",
        "int(input(\"Enter the upper range:\"))+1)])"
      ],
      "execution_count": null,
      "outputs": [
        {
          "output_type": "stream",
          "text": [
            "Enter the lower range:3\n",
            "Enter the upper range:6\n",
            "[(3, 9), (4, 16), (5, 25), (6, 36)]\n"
          ],
          "name": "stdout"
        }
      ]
    },
    {
      "cell_type": "markdown",
      "metadata": {
        "id": "VOJ-e8fBcsXi",
        "colab_type": "text"
      },
      "source": [
        "#Program to generate random numbers from 1 to 20 and append them to the list."
      ]
    },
    {
      "cell_type": "code",
      "metadata": {
        "id": "DDar54S6cwME",
        "colab_type": "code",
        "colab": {
          "base_uri": "https://localhost:8080/",
          "height": 50
        },
        "outputId": "16c43b72-b961-41c9-c3ac-41f312827c13"
      },
      "source": [
        "import random\n",
        "a=[]\n",
        "n=int(input(\"Enter number of elements:\"))\n",
        "for j in range(n):\n",
        "    a.append(random.randint(1,20))\n",
        "print('Randomised list is: ',a)"
      ],
      "execution_count": null,
      "outputs": [
        {
          "output_type": "stream",
          "text": [
            "Enter number of elements:5\n",
            "Randomised list is:  [3, 15, 15, 11, 18]\n"
          ],
          "name": "stdout"
        }
      ]
    },
    {
      "cell_type": "markdown",
      "metadata": {
        "id": "T-RZkziAc3hx",
        "colab_type": "text"
      },
      "source": [
        "#Pythonic program of 2 lines!"
      ]
    },
    {
      "cell_type": "code",
      "metadata": {
        "id": "EZDObWeMc7NI",
        "colab_type": "code",
        "colab": {
          "base_uri": "https://localhost:8080/",
          "height": 50
        },
        "outputId": "6ab923f0-ccfa-4b72-d484-5ee6af5e25de"
      },
      "source": [
        "import random\n",
        "l=[random.randint(1,20) for _ in range(int(input(\"Enter how many elements\")))]\n",
        "print('Randomised list is: ',l)"
      ],
      "execution_count": null,
      "outputs": [
        {
          "output_type": "stream",
          "text": [
            "Enter how many elements4\n",
            "Randomised list is:  [8, 8, 5, 10]\n"
          ],
          "name": "stdout"
        }
      ]
    },
    {
      "cell_type": "markdown",
      "metadata": {
        "id": "OOk34OZwc_h5",
        "colab_type": "text"
      },
      "source": [
        "#Program for printing list of values with indexing"
      ]
    },
    {
      "cell_type": "code",
      "metadata": {
        "id": "AmnpWeYodC95",
        "colab_type": "code",
        "colab": {
          "base_uri": "https://localhost:8080/",
          "height": 218
        },
        "outputId": "40760fca-30ed-4b99-adcc-f4c3a5b3ad9b"
      },
      "source": [
        "names = ['Jan','Feb','Mar','Apr','May','Jun','Jul','Aug','Sep','Oct','Nov','Dec']\n",
        "index=0\n",
        "for i in names:\n",
        "     print(str(index)+\":\"+i)\n",
        "     index=index+1"
      ],
      "execution_count": null,
      "outputs": [
        {
          "output_type": "stream",
          "text": [
            "0:Jan\n",
            "1:Feb\n",
            "2:Mar\n",
            "3:Apr\n",
            "4:May\n",
            "5:Jun\n",
            "6:Jul\n",
            "7:Aug\n",
            "8:Sep\n",
            "9:Oct\n",
            "10:Nov\n",
            "11:Dec\n"
          ],
          "name": "stdout"
        }
      ]
    },
    {
      "cell_type": "markdown",
      "metadata": {
        "id": "0r3p9IYudItA",
        "colab_type": "text"
      },
      "source": [
        "#using Pythonic way using enumerate()!"
      ]
    },
    {
      "cell_type": "code",
      "metadata": {
        "id": "kZF9rYyhdPRg",
        "colab_type": "code",
        "colab": {
          "base_uri": "https://localhost:8080/",
          "height": 218
        },
        "outputId": "ace1f8cb-0d3d-4ec9-a40e-9fbc4d19c812"
      },
      "source": [
        "names = ['Jan','Feb','Mar','Apr','May','Jun','Jul','Aug','Sep','Oct','Nov','Dec']\n",
        "for index, value in enumerate(names):\n",
        "    print(f'{index+1}: {value}')"
      ],
      "execution_count": null,
      "outputs": [
        {
          "output_type": "stream",
          "text": [
            "1: Jan\n",
            "2: Feb\n",
            "3: Mar\n",
            "4: Apr\n",
            "5: May\n",
            "6: Jun\n",
            "7: Jul\n",
            "8: Aug\n",
            "9: Sep\n",
            "10: Oct\n",
            "11: Nov\n",
            "12: Dec\n"
          ],
          "name": "stdout"
        }
      ]
    }
  ]
}